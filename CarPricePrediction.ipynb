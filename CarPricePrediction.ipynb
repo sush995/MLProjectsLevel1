{
  "nbformat": 4,
  "nbformat_minor": 0,
  "metadata": {
    "colab": {
      "name": "CarPricePrediction.ipynb",
      "provenance": [],
      "authorship_tag": "ABX9TyM9iacdf+gpwnjXiMDnnuDx",
      "include_colab_link": true
    },
    "kernelspec": {
      "name": "python3",
      "display_name": "Python 3"
    }
  },
  "cells": [
    {
      "cell_type": "markdown",
      "metadata": {
        "id": "view-in-github",
        "colab_type": "text"
      },
      "source": [
        "<a href=\"https://colab.research.google.com/github/sush995/MLProjectsLevel1/blob/main/CarPricePrediction.ipynb\" target=\"_parent\"><img src=\"https://colab.research.google.com/assets/colab-badge.svg\" alt=\"Open In Colab\"/></a>"
      ]
    },
    {
      "cell_type": "code",
      "metadata": {
        "id": "qTHmgBJpQw7N"
      },
      "source": [
        "import pandas as pd\n",
        "df=pd.read_csv('car data.csv')"
      ],
      "execution_count": null,
      "outputs": []
    },
    {
      "cell_type": "code",
      "metadata": {
        "id": "OvTu6TrTYhK8"
      },
      "source": [
        "df.head()"
      ],
      "execution_count": null,
      "outputs": []
    },
    {
      "cell_type": "code",
      "metadata": {
        "colab": {
          "base_uri": "https://localhost:8080/"
        },
        "id": "E_SS4nL6YyJR",
        "outputId": "106c456b-d2ce-45c5-bef8-2f87f9533687"
      },
      "source": [
        "df.shape"
      ],
      "execution_count": null,
      "outputs": [
        {
          "output_type": "execute_result",
          "data": {
            "text/plain": [
              "(301, 9)"
            ]
          },
          "metadata": {
            "tags": []
          },
          "execution_count": 3
        }
      ]
    },
    {
      "cell_type": "code",
      "metadata": {
        "colab": {
          "base_uri": "https://localhost:8080/"
        },
        "id": "Ne6z8IQuZWmx",
        "outputId": "f445985e-87ee-46c5-841a-31500ea26cfd"
      },
      "source": [
        "### Find Categorical Values\n",
        "print(df['Seller_Type'].unique())\n",
        "print(df['Owner'].unique())\n",
        "print(df['Fuel_Type'].unique())\n",
        "print(df['Transmission'].unique())"
      ],
      "execution_count": null,
      "outputs": [
        {
          "output_type": "stream",
          "text": [
            "['Dealer' 'Individual']\n",
            "[0 1 3]\n",
            "['Petrol' 'Diesel' 'CNG']\n",
            "['Manual' 'Automatic']\n"
          ],
          "name": "stdout"
        }
      ]
    },
    {
      "cell_type": "code",
      "metadata": {
        "colab": {
          "base_uri": "https://localhost:8080/"
        },
        "id": "aHprXCE4t_sM",
        "outputId": "b0eede1d-35ac-422f-b483-e5d9e601e35a"
      },
      "source": [
        "### Find Missing Values\n",
        "df.isnull().sum()"
      ],
      "execution_count": null,
      "outputs": [
        {
          "output_type": "execute_result",
          "data": {
            "text/plain": [
              "Car_Name         0\n",
              "Year             0\n",
              "Selling_Price    0\n",
              "Present_Price    0\n",
              "Kms_Driven       0\n",
              "Fuel_Type        0\n",
              "Seller_Type      0\n",
              "Transmission     0\n",
              "Owner            0\n",
              "dtype: int64"
            ]
          },
          "metadata": {
            "tags": []
          },
          "execution_count": 5
        }
      ]
    },
    {
      "cell_type": "code",
      "metadata": {
        "colab": {
          "base_uri": "https://localhost:8080/",
          "height": 287
        },
        "id": "H-kD-56Uu1aY",
        "outputId": "698563b7-1a80-4b12-8834-6a250a90755b"
      },
      "source": [
        "df.describe()"
      ],
      "execution_count": null,
      "outputs": [
        {
          "output_type": "execute_result",
          "data": {
            "text/html": [
              "<div>\n",
              "<style scoped>\n",
              "    .dataframe tbody tr th:only-of-type {\n",
              "        vertical-align: middle;\n",
              "    }\n",
              "\n",
              "    .dataframe tbody tr th {\n",
              "        vertical-align: top;\n",
              "    }\n",
              "\n",
              "    .dataframe thead th {\n",
              "        text-align: right;\n",
              "    }\n",
              "</style>\n",
              "<table border=\"1\" class=\"dataframe\">\n",
              "  <thead>\n",
              "    <tr style=\"text-align: right;\">\n",
              "      <th></th>\n",
              "      <th>Year</th>\n",
              "      <th>Selling_Price</th>\n",
              "      <th>Present_Price</th>\n",
              "      <th>Kms_Driven</th>\n",
              "      <th>Owner</th>\n",
              "    </tr>\n",
              "  </thead>\n",
              "  <tbody>\n",
              "    <tr>\n",
              "      <th>count</th>\n",
              "      <td>301.000000</td>\n",
              "      <td>301.000000</td>\n",
              "      <td>301.000000</td>\n",
              "      <td>301.000000</td>\n",
              "      <td>301.000000</td>\n",
              "    </tr>\n",
              "    <tr>\n",
              "      <th>mean</th>\n",
              "      <td>2013.627907</td>\n",
              "      <td>4.661296</td>\n",
              "      <td>7.628472</td>\n",
              "      <td>36947.205980</td>\n",
              "      <td>0.043189</td>\n",
              "    </tr>\n",
              "    <tr>\n",
              "      <th>std</th>\n",
              "      <td>2.891554</td>\n",
              "      <td>5.082812</td>\n",
              "      <td>8.644115</td>\n",
              "      <td>38886.883882</td>\n",
              "      <td>0.247915</td>\n",
              "    </tr>\n",
              "    <tr>\n",
              "      <th>min</th>\n",
              "      <td>2003.000000</td>\n",
              "      <td>0.100000</td>\n",
              "      <td>0.320000</td>\n",
              "      <td>500.000000</td>\n",
              "      <td>0.000000</td>\n",
              "    </tr>\n",
              "    <tr>\n",
              "      <th>25%</th>\n",
              "      <td>2012.000000</td>\n",
              "      <td>0.900000</td>\n",
              "      <td>1.200000</td>\n",
              "      <td>15000.000000</td>\n",
              "      <td>0.000000</td>\n",
              "    </tr>\n",
              "    <tr>\n",
              "      <th>50%</th>\n",
              "      <td>2014.000000</td>\n",
              "      <td>3.600000</td>\n",
              "      <td>6.400000</td>\n",
              "      <td>32000.000000</td>\n",
              "      <td>0.000000</td>\n",
              "    </tr>\n",
              "    <tr>\n",
              "      <th>75%</th>\n",
              "      <td>2016.000000</td>\n",
              "      <td>6.000000</td>\n",
              "      <td>9.900000</td>\n",
              "      <td>48767.000000</td>\n",
              "      <td>0.000000</td>\n",
              "    </tr>\n",
              "    <tr>\n",
              "      <th>max</th>\n",
              "      <td>2018.000000</td>\n",
              "      <td>35.000000</td>\n",
              "      <td>92.600000</td>\n",
              "      <td>500000.000000</td>\n",
              "      <td>3.000000</td>\n",
              "    </tr>\n",
              "  </tbody>\n",
              "</table>\n",
              "</div>"
            ],
            "text/plain": [
              "              Year  Selling_Price  Present_Price     Kms_Driven       Owner\n",
              "count   301.000000     301.000000     301.000000     301.000000  301.000000\n",
              "mean   2013.627907       4.661296       7.628472   36947.205980    0.043189\n",
              "std       2.891554       5.082812       8.644115   38886.883882    0.247915\n",
              "min    2003.000000       0.100000       0.320000     500.000000    0.000000\n",
              "25%    2012.000000       0.900000       1.200000   15000.000000    0.000000\n",
              "50%    2014.000000       3.600000       6.400000   32000.000000    0.000000\n",
              "75%    2016.000000       6.000000       9.900000   48767.000000    0.000000\n",
              "max    2018.000000      35.000000      92.600000  500000.000000    3.000000"
            ]
          },
          "metadata": {
            "tags": []
          },
          "execution_count": 6
        }
      ]
    },
    {
      "cell_type": "code",
      "metadata": {
        "colab": {
          "base_uri": "https://localhost:8080/"
        },
        "id": "gX8nQPd_ykbw",
        "outputId": "ae97992e-d913-48b1-ad54-d6dacaef2f77"
      },
      "source": [
        "df.columns"
      ],
      "execution_count": null,
      "outputs": [
        {
          "output_type": "execute_result",
          "data": {
            "text/plain": [
              "Index(['Car_Name', 'Year', 'Selling_Price', 'Present_Price', 'Kms_Driven',\n",
              "       'Fuel_Type', 'Seller_Type', 'Transmission', 'Owner'],\n",
              "      dtype='object')"
            ]
          },
          "metadata": {
            "tags": []
          },
          "execution_count": 7
        }
      ]
    },
    {
      "cell_type": "code",
      "metadata": {
        "id": "nRxBbM7lys2k"
      },
      "source": [
        "final_dataset=df[['Year', 'Selling_Price', 'Present_Price', 'Kms_Driven',\n",
        "       'Fuel_Type', 'Seller_Type', 'Transmission', 'Owner']]"
      ],
      "execution_count": null,
      "outputs": []
    },
    {
      "cell_type": "code",
      "metadata": {
        "colab": {
          "base_uri": "https://localhost:8080/",
          "height": 197
        },
        "id": "_HtNiZgDzKK9",
        "outputId": "e74be75c-f66c-4667-9b0c-1276d2c659ad"
      },
      "source": [
        "final_dataset.head()"
      ],
      "execution_count": null,
      "outputs": [
        {
          "output_type": "execute_result",
          "data": {
            "text/html": [
              "<div>\n",
              "<style scoped>\n",
              "    .dataframe tbody tr th:only-of-type {\n",
              "        vertical-align: middle;\n",
              "    }\n",
              "\n",
              "    .dataframe tbody tr th {\n",
              "        vertical-align: top;\n",
              "    }\n",
              "\n",
              "    .dataframe thead th {\n",
              "        text-align: right;\n",
              "    }\n",
              "</style>\n",
              "<table border=\"1\" class=\"dataframe\">\n",
              "  <thead>\n",
              "    <tr style=\"text-align: right;\">\n",
              "      <th></th>\n",
              "      <th>Year</th>\n",
              "      <th>Selling_Price</th>\n",
              "      <th>Present_Price</th>\n",
              "      <th>Kms_Driven</th>\n",
              "      <th>Fuel_Type</th>\n",
              "      <th>Seller_Type</th>\n",
              "      <th>Transmission</th>\n",
              "      <th>Owner</th>\n",
              "    </tr>\n",
              "  </thead>\n",
              "  <tbody>\n",
              "    <tr>\n",
              "      <th>0</th>\n",
              "      <td>2014</td>\n",
              "      <td>3.35</td>\n",
              "      <td>5.59</td>\n",
              "      <td>27000</td>\n",
              "      <td>Petrol</td>\n",
              "      <td>Dealer</td>\n",
              "      <td>Manual</td>\n",
              "      <td>0</td>\n",
              "    </tr>\n",
              "    <tr>\n",
              "      <th>1</th>\n",
              "      <td>2013</td>\n",
              "      <td>4.75</td>\n",
              "      <td>9.54</td>\n",
              "      <td>43000</td>\n",
              "      <td>Diesel</td>\n",
              "      <td>Dealer</td>\n",
              "      <td>Manual</td>\n",
              "      <td>0</td>\n",
              "    </tr>\n",
              "    <tr>\n",
              "      <th>2</th>\n",
              "      <td>2017</td>\n",
              "      <td>7.25</td>\n",
              "      <td>9.85</td>\n",
              "      <td>6900</td>\n",
              "      <td>Petrol</td>\n",
              "      <td>Dealer</td>\n",
              "      <td>Manual</td>\n",
              "      <td>0</td>\n",
              "    </tr>\n",
              "    <tr>\n",
              "      <th>3</th>\n",
              "      <td>2011</td>\n",
              "      <td>2.85</td>\n",
              "      <td>4.15</td>\n",
              "      <td>5200</td>\n",
              "      <td>Petrol</td>\n",
              "      <td>Dealer</td>\n",
              "      <td>Manual</td>\n",
              "      <td>0</td>\n",
              "    </tr>\n",
              "    <tr>\n",
              "      <th>4</th>\n",
              "      <td>2014</td>\n",
              "      <td>4.60</td>\n",
              "      <td>6.87</td>\n",
              "      <td>42450</td>\n",
              "      <td>Diesel</td>\n",
              "      <td>Dealer</td>\n",
              "      <td>Manual</td>\n",
              "      <td>0</td>\n",
              "    </tr>\n",
              "  </tbody>\n",
              "</table>\n",
              "</div>"
            ],
            "text/plain": [
              "   Year  Selling_Price  Present_Price  ...  Seller_Type Transmission Owner\n",
              "0  2014           3.35           5.59  ...       Dealer       Manual     0\n",
              "1  2013           4.75           9.54  ...       Dealer       Manual     0\n",
              "2  2017           7.25           9.85  ...       Dealer       Manual     0\n",
              "3  2011           2.85           4.15  ...       Dealer       Manual     0\n",
              "4  2014           4.60           6.87  ...       Dealer       Manual     0\n",
              "\n",
              "[5 rows x 8 columns]"
            ]
          },
          "metadata": {
            "tags": []
          },
          "execution_count": 9
        }
      ]
    },
    {
      "cell_type": "code",
      "metadata": {
        "id": "MnTkbr5E1LeU"
      },
      "source": [
        "final_dataset['Current Year']=2020"
      ],
      "execution_count": null,
      "outputs": []
    },
    {
      "cell_type": "code",
      "metadata": {
        "colab": {
          "base_uri": "https://localhost:8080/",
          "height": 197
        },
        "id": "kkM6fvJb1hph",
        "outputId": "efe761ce-d020-47c7-b296-b2d26fe3378e"
      },
      "source": [
        "final_dataset.head()"
      ],
      "execution_count": null,
      "outputs": [
        {
          "output_type": "execute_result",
          "data": {
            "text/html": [
              "<div>\n",
              "<style scoped>\n",
              "    .dataframe tbody tr th:only-of-type {\n",
              "        vertical-align: middle;\n",
              "    }\n",
              "\n",
              "    .dataframe tbody tr th {\n",
              "        vertical-align: top;\n",
              "    }\n",
              "\n",
              "    .dataframe thead th {\n",
              "        text-align: right;\n",
              "    }\n",
              "</style>\n",
              "<table border=\"1\" class=\"dataframe\">\n",
              "  <thead>\n",
              "    <tr style=\"text-align: right;\">\n",
              "      <th></th>\n",
              "      <th>Year</th>\n",
              "      <th>Selling_Price</th>\n",
              "      <th>Present_Price</th>\n",
              "      <th>Kms_Driven</th>\n",
              "      <th>Fuel_Type</th>\n",
              "      <th>Seller_Type</th>\n",
              "      <th>Transmission</th>\n",
              "      <th>Owner</th>\n",
              "      <th>Current Year</th>\n",
              "    </tr>\n",
              "  </thead>\n",
              "  <tbody>\n",
              "    <tr>\n",
              "      <th>0</th>\n",
              "      <td>2014</td>\n",
              "      <td>3.35</td>\n",
              "      <td>5.59</td>\n",
              "      <td>27000</td>\n",
              "      <td>Petrol</td>\n",
              "      <td>Dealer</td>\n",
              "      <td>Manual</td>\n",
              "      <td>0</td>\n",
              "      <td>2020</td>\n",
              "    </tr>\n",
              "    <tr>\n",
              "      <th>1</th>\n",
              "      <td>2013</td>\n",
              "      <td>4.75</td>\n",
              "      <td>9.54</td>\n",
              "      <td>43000</td>\n",
              "      <td>Diesel</td>\n",
              "      <td>Dealer</td>\n",
              "      <td>Manual</td>\n",
              "      <td>0</td>\n",
              "      <td>2020</td>\n",
              "    </tr>\n",
              "    <tr>\n",
              "      <th>2</th>\n",
              "      <td>2017</td>\n",
              "      <td>7.25</td>\n",
              "      <td>9.85</td>\n",
              "      <td>6900</td>\n",
              "      <td>Petrol</td>\n",
              "      <td>Dealer</td>\n",
              "      <td>Manual</td>\n",
              "      <td>0</td>\n",
              "      <td>2020</td>\n",
              "    </tr>\n",
              "    <tr>\n",
              "      <th>3</th>\n",
              "      <td>2011</td>\n",
              "      <td>2.85</td>\n",
              "      <td>4.15</td>\n",
              "      <td>5200</td>\n",
              "      <td>Petrol</td>\n",
              "      <td>Dealer</td>\n",
              "      <td>Manual</td>\n",
              "      <td>0</td>\n",
              "      <td>2020</td>\n",
              "    </tr>\n",
              "    <tr>\n",
              "      <th>4</th>\n",
              "      <td>2014</td>\n",
              "      <td>4.60</td>\n",
              "      <td>6.87</td>\n",
              "      <td>42450</td>\n",
              "      <td>Diesel</td>\n",
              "      <td>Dealer</td>\n",
              "      <td>Manual</td>\n",
              "      <td>0</td>\n",
              "      <td>2020</td>\n",
              "    </tr>\n",
              "  </tbody>\n",
              "</table>\n",
              "</div>"
            ],
            "text/plain": [
              "   Year  Selling_Price  Present_Price  ...  Transmission Owner Current Year\n",
              "0  2014           3.35           5.59  ...        Manual     0         2020\n",
              "1  2013           4.75           9.54  ...        Manual     0         2020\n",
              "2  2017           7.25           9.85  ...        Manual     0         2020\n",
              "3  2011           2.85           4.15  ...        Manual     0         2020\n",
              "4  2014           4.60           6.87  ...        Manual     0         2020\n",
              "\n",
              "[5 rows x 9 columns]"
            ]
          },
          "metadata": {
            "tags": []
          },
          "execution_count": 11
        }
      ]
    },
    {
      "cell_type": "code",
      "metadata": {
        "id": "eQFBQaaH11BP"
      },
      "source": [
        "final_dataset['No.of Years']=final_dataset['Current Year']-final_dataset['Year']"
      ],
      "execution_count": null,
      "outputs": []
    },
    {
      "cell_type": "code",
      "metadata": {
        "colab": {
          "base_uri": "https://localhost:8080/",
          "height": 197
        },
        "id": "GpRLmdN22Cw-",
        "outputId": "e1eac3dd-c9a9-48f2-ae0a-13b4c23de18a"
      },
      "source": [
        "final_dataset.head()"
      ],
      "execution_count": null,
      "outputs": [
        {
          "output_type": "execute_result",
          "data": {
            "text/html": [
              "<div>\n",
              "<style scoped>\n",
              "    .dataframe tbody tr th:only-of-type {\n",
              "        vertical-align: middle;\n",
              "    }\n",
              "\n",
              "    .dataframe tbody tr th {\n",
              "        vertical-align: top;\n",
              "    }\n",
              "\n",
              "    .dataframe thead th {\n",
              "        text-align: right;\n",
              "    }\n",
              "</style>\n",
              "<table border=\"1\" class=\"dataframe\">\n",
              "  <thead>\n",
              "    <tr style=\"text-align: right;\">\n",
              "      <th></th>\n",
              "      <th>Year</th>\n",
              "      <th>Selling_Price</th>\n",
              "      <th>Present_Price</th>\n",
              "      <th>Kms_Driven</th>\n",
              "      <th>Fuel_Type</th>\n",
              "      <th>Seller_Type</th>\n",
              "      <th>Transmission</th>\n",
              "      <th>Owner</th>\n",
              "      <th>Current Year</th>\n",
              "      <th>No.of Years</th>\n",
              "    </tr>\n",
              "  </thead>\n",
              "  <tbody>\n",
              "    <tr>\n",
              "      <th>0</th>\n",
              "      <td>2014</td>\n",
              "      <td>3.35</td>\n",
              "      <td>5.59</td>\n",
              "      <td>27000</td>\n",
              "      <td>Petrol</td>\n",
              "      <td>Dealer</td>\n",
              "      <td>Manual</td>\n",
              "      <td>0</td>\n",
              "      <td>2020</td>\n",
              "      <td>6</td>\n",
              "    </tr>\n",
              "    <tr>\n",
              "      <th>1</th>\n",
              "      <td>2013</td>\n",
              "      <td>4.75</td>\n",
              "      <td>9.54</td>\n",
              "      <td>43000</td>\n",
              "      <td>Diesel</td>\n",
              "      <td>Dealer</td>\n",
              "      <td>Manual</td>\n",
              "      <td>0</td>\n",
              "      <td>2020</td>\n",
              "      <td>7</td>\n",
              "    </tr>\n",
              "    <tr>\n",
              "      <th>2</th>\n",
              "      <td>2017</td>\n",
              "      <td>7.25</td>\n",
              "      <td>9.85</td>\n",
              "      <td>6900</td>\n",
              "      <td>Petrol</td>\n",
              "      <td>Dealer</td>\n",
              "      <td>Manual</td>\n",
              "      <td>0</td>\n",
              "      <td>2020</td>\n",
              "      <td>3</td>\n",
              "    </tr>\n",
              "    <tr>\n",
              "      <th>3</th>\n",
              "      <td>2011</td>\n",
              "      <td>2.85</td>\n",
              "      <td>4.15</td>\n",
              "      <td>5200</td>\n",
              "      <td>Petrol</td>\n",
              "      <td>Dealer</td>\n",
              "      <td>Manual</td>\n",
              "      <td>0</td>\n",
              "      <td>2020</td>\n",
              "      <td>9</td>\n",
              "    </tr>\n",
              "    <tr>\n",
              "      <th>4</th>\n",
              "      <td>2014</td>\n",
              "      <td>4.60</td>\n",
              "      <td>6.87</td>\n",
              "      <td>42450</td>\n",
              "      <td>Diesel</td>\n",
              "      <td>Dealer</td>\n",
              "      <td>Manual</td>\n",
              "      <td>0</td>\n",
              "      <td>2020</td>\n",
              "      <td>6</td>\n",
              "    </tr>\n",
              "  </tbody>\n",
              "</table>\n",
              "</div>"
            ],
            "text/plain": [
              "   Year  Selling_Price  Present_Price  ...  Owner Current Year No.of Years\n",
              "0  2014           3.35           5.59  ...      0         2020           6\n",
              "1  2013           4.75           9.54  ...      0         2020           7\n",
              "2  2017           7.25           9.85  ...      0         2020           3\n",
              "3  2011           2.85           4.15  ...      0         2020           9\n",
              "4  2014           4.60           6.87  ...      0         2020           6\n",
              "\n",
              "[5 rows x 10 columns]"
            ]
          },
          "metadata": {
            "tags": []
          },
          "execution_count": 13
        }
      ]
    },
    {
      "cell_type": "code",
      "metadata": {
        "id": "4sgE8KuF4_tT"
      },
      "source": [
        "final_dataset.drop(['Year'],axis=1,inplace=True)"
      ],
      "execution_count": null,
      "outputs": []
    },
    {
      "cell_type": "code",
      "metadata": {
        "colab": {
          "base_uri": "https://localhost:8080/",
          "height": 197
        },
        "id": "7DIUxL4r7lYz",
        "outputId": "849e0c17-a42a-4e36-eb99-d90a6bc87cc0"
      },
      "source": [
        "final_dataset.head()"
      ],
      "execution_count": null,
      "outputs": [
        {
          "output_type": "execute_result",
          "data": {
            "text/html": [
              "<div>\n",
              "<style scoped>\n",
              "    .dataframe tbody tr th:only-of-type {\n",
              "        vertical-align: middle;\n",
              "    }\n",
              "\n",
              "    .dataframe tbody tr th {\n",
              "        vertical-align: top;\n",
              "    }\n",
              "\n",
              "    .dataframe thead th {\n",
              "        text-align: right;\n",
              "    }\n",
              "</style>\n",
              "<table border=\"1\" class=\"dataframe\">\n",
              "  <thead>\n",
              "    <tr style=\"text-align: right;\">\n",
              "      <th></th>\n",
              "      <th>Selling_Price</th>\n",
              "      <th>Present_Price</th>\n",
              "      <th>Kms_Driven</th>\n",
              "      <th>Fuel_Type</th>\n",
              "      <th>Seller_Type</th>\n",
              "      <th>Transmission</th>\n",
              "      <th>Owner</th>\n",
              "      <th>Current Year</th>\n",
              "      <th>No.of Years</th>\n",
              "    </tr>\n",
              "  </thead>\n",
              "  <tbody>\n",
              "    <tr>\n",
              "      <th>0</th>\n",
              "      <td>3.35</td>\n",
              "      <td>5.59</td>\n",
              "      <td>27000</td>\n",
              "      <td>Petrol</td>\n",
              "      <td>Dealer</td>\n",
              "      <td>Manual</td>\n",
              "      <td>0</td>\n",
              "      <td>2020</td>\n",
              "      <td>6</td>\n",
              "    </tr>\n",
              "    <tr>\n",
              "      <th>1</th>\n",
              "      <td>4.75</td>\n",
              "      <td>9.54</td>\n",
              "      <td>43000</td>\n",
              "      <td>Diesel</td>\n",
              "      <td>Dealer</td>\n",
              "      <td>Manual</td>\n",
              "      <td>0</td>\n",
              "      <td>2020</td>\n",
              "      <td>7</td>\n",
              "    </tr>\n",
              "    <tr>\n",
              "      <th>2</th>\n",
              "      <td>7.25</td>\n",
              "      <td>9.85</td>\n",
              "      <td>6900</td>\n",
              "      <td>Petrol</td>\n",
              "      <td>Dealer</td>\n",
              "      <td>Manual</td>\n",
              "      <td>0</td>\n",
              "      <td>2020</td>\n",
              "      <td>3</td>\n",
              "    </tr>\n",
              "    <tr>\n",
              "      <th>3</th>\n",
              "      <td>2.85</td>\n",
              "      <td>4.15</td>\n",
              "      <td>5200</td>\n",
              "      <td>Petrol</td>\n",
              "      <td>Dealer</td>\n",
              "      <td>Manual</td>\n",
              "      <td>0</td>\n",
              "      <td>2020</td>\n",
              "      <td>9</td>\n",
              "    </tr>\n",
              "    <tr>\n",
              "      <th>4</th>\n",
              "      <td>4.60</td>\n",
              "      <td>6.87</td>\n",
              "      <td>42450</td>\n",
              "      <td>Diesel</td>\n",
              "      <td>Dealer</td>\n",
              "      <td>Manual</td>\n",
              "      <td>0</td>\n",
              "      <td>2020</td>\n",
              "      <td>6</td>\n",
              "    </tr>\n",
              "  </tbody>\n",
              "</table>\n",
              "</div>"
            ],
            "text/plain": [
              "   Selling_Price  Present_Price  Kms_Driven  ... Owner Current Year No.of Years\n",
              "0           3.35           5.59       27000  ...     0         2020           6\n",
              "1           4.75           9.54       43000  ...     0         2020           7\n",
              "2           7.25           9.85        6900  ...     0         2020           3\n",
              "3           2.85           4.15        5200  ...     0         2020           9\n",
              "4           4.60           6.87       42450  ...     0         2020           6\n",
              "\n",
              "[5 rows x 9 columns]"
            ]
          },
          "metadata": {
            "tags": []
          },
          "execution_count": 15
        }
      ]
    },
    {
      "cell_type": "code",
      "metadata": {
        "id": "lHb24AmT7rEs"
      },
      "source": [
        "final_dataset.drop(['Current Year'],axis=1,inplace=True)"
      ],
      "execution_count": null,
      "outputs": []
    },
    {
      "cell_type": "code",
      "metadata": {
        "colab": {
          "base_uri": "https://localhost:8080/",
          "height": 197
        },
        "id": "m_P8nhms756e",
        "outputId": "1f05ff42-36e2-442e-95c8-7cc32c5b736e"
      },
      "source": [
        "final_dataset.head()"
      ],
      "execution_count": null,
      "outputs": [
        {
          "output_type": "execute_result",
          "data": {
            "text/html": [
              "<div>\n",
              "<style scoped>\n",
              "    .dataframe tbody tr th:only-of-type {\n",
              "        vertical-align: middle;\n",
              "    }\n",
              "\n",
              "    .dataframe tbody tr th {\n",
              "        vertical-align: top;\n",
              "    }\n",
              "\n",
              "    .dataframe thead th {\n",
              "        text-align: right;\n",
              "    }\n",
              "</style>\n",
              "<table border=\"1\" class=\"dataframe\">\n",
              "  <thead>\n",
              "    <tr style=\"text-align: right;\">\n",
              "      <th></th>\n",
              "      <th>Selling_Price</th>\n",
              "      <th>Present_Price</th>\n",
              "      <th>Kms_Driven</th>\n",
              "      <th>Fuel_Type</th>\n",
              "      <th>Seller_Type</th>\n",
              "      <th>Transmission</th>\n",
              "      <th>Owner</th>\n",
              "      <th>No.of Years</th>\n",
              "    </tr>\n",
              "  </thead>\n",
              "  <tbody>\n",
              "    <tr>\n",
              "      <th>0</th>\n",
              "      <td>3.35</td>\n",
              "      <td>5.59</td>\n",
              "      <td>27000</td>\n",
              "      <td>Petrol</td>\n",
              "      <td>Dealer</td>\n",
              "      <td>Manual</td>\n",
              "      <td>0</td>\n",
              "      <td>6</td>\n",
              "    </tr>\n",
              "    <tr>\n",
              "      <th>1</th>\n",
              "      <td>4.75</td>\n",
              "      <td>9.54</td>\n",
              "      <td>43000</td>\n",
              "      <td>Diesel</td>\n",
              "      <td>Dealer</td>\n",
              "      <td>Manual</td>\n",
              "      <td>0</td>\n",
              "      <td>7</td>\n",
              "    </tr>\n",
              "    <tr>\n",
              "      <th>2</th>\n",
              "      <td>7.25</td>\n",
              "      <td>9.85</td>\n",
              "      <td>6900</td>\n",
              "      <td>Petrol</td>\n",
              "      <td>Dealer</td>\n",
              "      <td>Manual</td>\n",
              "      <td>0</td>\n",
              "      <td>3</td>\n",
              "    </tr>\n",
              "    <tr>\n",
              "      <th>3</th>\n",
              "      <td>2.85</td>\n",
              "      <td>4.15</td>\n",
              "      <td>5200</td>\n",
              "      <td>Petrol</td>\n",
              "      <td>Dealer</td>\n",
              "      <td>Manual</td>\n",
              "      <td>0</td>\n",
              "      <td>9</td>\n",
              "    </tr>\n",
              "    <tr>\n",
              "      <th>4</th>\n",
              "      <td>4.60</td>\n",
              "      <td>6.87</td>\n",
              "      <td>42450</td>\n",
              "      <td>Diesel</td>\n",
              "      <td>Dealer</td>\n",
              "      <td>Manual</td>\n",
              "      <td>0</td>\n",
              "      <td>6</td>\n",
              "    </tr>\n",
              "  </tbody>\n",
              "</table>\n",
              "</div>"
            ],
            "text/plain": [
              "   Selling_Price  Present_Price  Kms_Driven  ... Transmission Owner No.of Years\n",
              "0           3.35           5.59       27000  ...       Manual     0           6\n",
              "1           4.75           9.54       43000  ...       Manual     0           7\n",
              "2           7.25           9.85        6900  ...       Manual     0           3\n",
              "3           2.85           4.15        5200  ...       Manual     0           9\n",
              "4           4.60           6.87       42450  ...       Manual     0           6\n",
              "\n",
              "[5 rows x 8 columns]"
            ]
          },
          "metadata": {
            "tags": []
          },
          "execution_count": 17
        }
      ]
    },
    {
      "cell_type": "code",
      "metadata": {
        "id": "ucvr3wMw9Pc0"
      },
      "source": [
        "final_dataset=pd.get_dummies(final_dataset,drop_first=True)"
      ],
      "execution_count": null,
      "outputs": []
    },
    {
      "cell_type": "code",
      "metadata": {
        "colab": {
          "base_uri": "https://localhost:8080/",
          "height": 197
        },
        "id": "rar1KJuY9f9O",
        "outputId": "249f54fc-ed06-49bf-eed4-ae5de2ccbccd"
      },
      "source": [
        "final_dataset.head()"
      ],
      "execution_count": null,
      "outputs": [
        {
          "output_type": "execute_result",
          "data": {
            "text/html": [
              "<div>\n",
              "<style scoped>\n",
              "    .dataframe tbody tr th:only-of-type {\n",
              "        vertical-align: middle;\n",
              "    }\n",
              "\n",
              "    .dataframe tbody tr th {\n",
              "        vertical-align: top;\n",
              "    }\n",
              "\n",
              "    .dataframe thead th {\n",
              "        text-align: right;\n",
              "    }\n",
              "</style>\n",
              "<table border=\"1\" class=\"dataframe\">\n",
              "  <thead>\n",
              "    <tr style=\"text-align: right;\">\n",
              "      <th></th>\n",
              "      <th>Selling_Price</th>\n",
              "      <th>Present_Price</th>\n",
              "      <th>Kms_Driven</th>\n",
              "      <th>Owner</th>\n",
              "      <th>No.of Years</th>\n",
              "      <th>Fuel_Type_Diesel</th>\n",
              "      <th>Fuel_Type_Petrol</th>\n",
              "      <th>Seller_Type_Individual</th>\n",
              "      <th>Transmission_Manual</th>\n",
              "    </tr>\n",
              "  </thead>\n",
              "  <tbody>\n",
              "    <tr>\n",
              "      <th>0</th>\n",
              "      <td>3.35</td>\n",
              "      <td>5.59</td>\n",
              "      <td>27000</td>\n",
              "      <td>0</td>\n",
              "      <td>6</td>\n",
              "      <td>0</td>\n",
              "      <td>1</td>\n",
              "      <td>0</td>\n",
              "      <td>1</td>\n",
              "    </tr>\n",
              "    <tr>\n",
              "      <th>1</th>\n",
              "      <td>4.75</td>\n",
              "      <td>9.54</td>\n",
              "      <td>43000</td>\n",
              "      <td>0</td>\n",
              "      <td>7</td>\n",
              "      <td>1</td>\n",
              "      <td>0</td>\n",
              "      <td>0</td>\n",
              "      <td>1</td>\n",
              "    </tr>\n",
              "    <tr>\n",
              "      <th>2</th>\n",
              "      <td>7.25</td>\n",
              "      <td>9.85</td>\n",
              "      <td>6900</td>\n",
              "      <td>0</td>\n",
              "      <td>3</td>\n",
              "      <td>0</td>\n",
              "      <td>1</td>\n",
              "      <td>0</td>\n",
              "      <td>1</td>\n",
              "    </tr>\n",
              "    <tr>\n",
              "      <th>3</th>\n",
              "      <td>2.85</td>\n",
              "      <td>4.15</td>\n",
              "      <td>5200</td>\n",
              "      <td>0</td>\n",
              "      <td>9</td>\n",
              "      <td>0</td>\n",
              "      <td>1</td>\n",
              "      <td>0</td>\n",
              "      <td>1</td>\n",
              "    </tr>\n",
              "    <tr>\n",
              "      <th>4</th>\n",
              "      <td>4.60</td>\n",
              "      <td>6.87</td>\n",
              "      <td>42450</td>\n",
              "      <td>0</td>\n",
              "      <td>6</td>\n",
              "      <td>1</td>\n",
              "      <td>0</td>\n",
              "      <td>0</td>\n",
              "      <td>1</td>\n",
              "    </tr>\n",
              "  </tbody>\n",
              "</table>\n",
              "</div>"
            ],
            "text/plain": [
              "   Selling_Price  Present_Price  ...  Seller_Type_Individual  Transmission_Manual\n",
              "0           3.35           5.59  ...                       0                    1\n",
              "1           4.75           9.54  ...                       0                    1\n",
              "2           7.25           9.85  ...                       0                    1\n",
              "3           2.85           4.15  ...                       0                    1\n",
              "4           4.60           6.87  ...                       0                    1\n",
              "\n",
              "[5 rows x 9 columns]"
            ]
          },
          "metadata": {
            "tags": []
          },
          "execution_count": 19
        }
      ]
    },
    {
      "cell_type": "code",
      "metadata": {
        "colab": {
          "base_uri": "https://localhost:8080/",
          "height": 354
        },
        "id": "5OlLii3j9ykM",
        "outputId": "8a7eafa6-7e9d-4b70-b975-95480a894ca6"
      },
      "source": [
        "final_dataset.corr()"
      ],
      "execution_count": null,
      "outputs": [
        {
          "output_type": "execute_result",
          "data": {
            "text/html": [
              "<div>\n",
              "<style scoped>\n",
              "    .dataframe tbody tr th:only-of-type {\n",
              "        vertical-align: middle;\n",
              "    }\n",
              "\n",
              "    .dataframe tbody tr th {\n",
              "        vertical-align: top;\n",
              "    }\n",
              "\n",
              "    .dataframe thead th {\n",
              "        text-align: right;\n",
              "    }\n",
              "</style>\n",
              "<table border=\"1\" class=\"dataframe\">\n",
              "  <thead>\n",
              "    <tr style=\"text-align: right;\">\n",
              "      <th></th>\n",
              "      <th>Selling_Price</th>\n",
              "      <th>Present_Price</th>\n",
              "      <th>Kms_Driven</th>\n",
              "      <th>Owner</th>\n",
              "      <th>No.of Years</th>\n",
              "      <th>Fuel_Type_Diesel</th>\n",
              "      <th>Fuel_Type_Petrol</th>\n",
              "      <th>Seller_Type_Individual</th>\n",
              "      <th>Transmission_Manual</th>\n",
              "    </tr>\n",
              "  </thead>\n",
              "  <tbody>\n",
              "    <tr>\n",
              "      <th>Selling_Price</th>\n",
              "      <td>1.000000</td>\n",
              "      <td>0.878983</td>\n",
              "      <td>0.029187</td>\n",
              "      <td>-0.088344</td>\n",
              "      <td>-0.236141</td>\n",
              "      <td>0.552339</td>\n",
              "      <td>-0.540571</td>\n",
              "      <td>-0.550724</td>\n",
              "      <td>-0.367128</td>\n",
              "    </tr>\n",
              "    <tr>\n",
              "      <th>Present_Price</th>\n",
              "      <td>0.878983</td>\n",
              "      <td>1.000000</td>\n",
              "      <td>0.203647</td>\n",
              "      <td>0.008057</td>\n",
              "      <td>0.047584</td>\n",
              "      <td>0.473306</td>\n",
              "      <td>-0.465244</td>\n",
              "      <td>-0.512030</td>\n",
              "      <td>-0.348715</td>\n",
              "    </tr>\n",
              "    <tr>\n",
              "      <th>Kms_Driven</th>\n",
              "      <td>0.029187</td>\n",
              "      <td>0.203647</td>\n",
              "      <td>1.000000</td>\n",
              "      <td>0.089216</td>\n",
              "      <td>0.524342</td>\n",
              "      <td>0.172515</td>\n",
              "      <td>-0.172874</td>\n",
              "      <td>-0.101419</td>\n",
              "      <td>-0.162510</td>\n",
              "    </tr>\n",
              "    <tr>\n",
              "      <th>Owner</th>\n",
              "      <td>-0.088344</td>\n",
              "      <td>0.008057</td>\n",
              "      <td>0.089216</td>\n",
              "      <td>1.000000</td>\n",
              "      <td>0.182104</td>\n",
              "      <td>-0.053469</td>\n",
              "      <td>0.055687</td>\n",
              "      <td>0.124269</td>\n",
              "      <td>-0.050316</td>\n",
              "    </tr>\n",
              "    <tr>\n",
              "      <th>No.of Years</th>\n",
              "      <td>-0.236141</td>\n",
              "      <td>0.047584</td>\n",
              "      <td>0.524342</td>\n",
              "      <td>0.182104</td>\n",
              "      <td>1.000000</td>\n",
              "      <td>-0.064315</td>\n",
              "      <td>0.059959</td>\n",
              "      <td>0.039896</td>\n",
              "      <td>-0.000394</td>\n",
              "    </tr>\n",
              "    <tr>\n",
              "      <th>Fuel_Type_Diesel</th>\n",
              "      <td>0.552339</td>\n",
              "      <td>0.473306</td>\n",
              "      <td>0.172515</td>\n",
              "      <td>-0.053469</td>\n",
              "      <td>-0.064315</td>\n",
              "      <td>1.000000</td>\n",
              "      <td>-0.979648</td>\n",
              "      <td>-0.350467</td>\n",
              "      <td>-0.098643</td>\n",
              "    </tr>\n",
              "    <tr>\n",
              "      <th>Fuel_Type_Petrol</th>\n",
              "      <td>-0.540571</td>\n",
              "      <td>-0.465244</td>\n",
              "      <td>-0.172874</td>\n",
              "      <td>0.055687</td>\n",
              "      <td>0.059959</td>\n",
              "      <td>-0.979648</td>\n",
              "      <td>1.000000</td>\n",
              "      <td>0.358321</td>\n",
              "      <td>0.091013</td>\n",
              "    </tr>\n",
              "    <tr>\n",
              "      <th>Seller_Type_Individual</th>\n",
              "      <td>-0.550724</td>\n",
              "      <td>-0.512030</td>\n",
              "      <td>-0.101419</td>\n",
              "      <td>0.124269</td>\n",
              "      <td>0.039896</td>\n",
              "      <td>-0.350467</td>\n",
              "      <td>0.358321</td>\n",
              "      <td>1.000000</td>\n",
              "      <td>0.063240</td>\n",
              "    </tr>\n",
              "    <tr>\n",
              "      <th>Transmission_Manual</th>\n",
              "      <td>-0.367128</td>\n",
              "      <td>-0.348715</td>\n",
              "      <td>-0.162510</td>\n",
              "      <td>-0.050316</td>\n",
              "      <td>-0.000394</td>\n",
              "      <td>-0.098643</td>\n",
              "      <td>0.091013</td>\n",
              "      <td>0.063240</td>\n",
              "      <td>1.000000</td>\n",
              "    </tr>\n",
              "  </tbody>\n",
              "</table>\n",
              "</div>"
            ],
            "text/plain": [
              "                        Selling_Price  ...  Transmission_Manual\n",
              "Selling_Price                1.000000  ...            -0.367128\n",
              "Present_Price                0.878983  ...            -0.348715\n",
              "Kms_Driven                   0.029187  ...            -0.162510\n",
              "Owner                       -0.088344  ...            -0.050316\n",
              "No.of Years                 -0.236141  ...            -0.000394\n",
              "Fuel_Type_Diesel             0.552339  ...            -0.098643\n",
              "Fuel_Type_Petrol            -0.540571  ...             0.091013\n",
              "Seller_Type_Individual      -0.550724  ...             0.063240\n",
              "Transmission_Manual         -0.367128  ...             1.000000\n",
              "\n",
              "[9 rows x 9 columns]"
            ]
          },
          "metadata": {
            "tags": []
          },
          "execution_count": 20
        }
      ]
    },
    {
      "cell_type": "code",
      "metadata": {
        "colab": {
          "base_uri": "https://localhost:8080/",
          "height": 1000
        },
        "id": "xDXzuLtM-UIi",
        "outputId": "82a99082-fefb-44bd-b7b4-17687b66874d"
      },
      "source": [
        "import seaborn as sns\n",
        "sns.pairplot(final_dataset)"
      ],
      "execution_count": null,
      "outputs": [
        {
          "output_type": "execute_result",
          "data": {
            "text/plain": [
              "<seaborn.axisgrid.PairGrid at 0x7f2d9323fc18>"
            ]
          },
          "metadata": {
            "tags": []
          },
          "execution_count": 21
        },
        {
          "output_type": "display_data",
          "data": {
            "image/png": "[encoded data removed]",
            "text/plain": [
              "<Figure size 1620x1620 with 90 Axes>"
            ]
          },
          "metadata": {
            "tags": [],
            "needs_background": "light"
          }
        }
      ]
    },
    {
      "cell_type": "code",
      "metadata": {
        "id": "sx8P8a08-ZDf"
      },
      "source": [
        "import matplotlib.pyplot as plt\n"
      ],
      "execution_count": null,
      "outputs": []
    },
    {
      "cell_type": "code",
      "metadata": {
        "colab": {
          "base_uri": "https://localhost:8080/",
          "height": 1000
        },
        "id": "ELWlRHzS-ZG9",
        "outputId": "6684aab7-e8f4-4af0-8038-20a97da247fc"
      },
      "source": [
        "cormat=final_dataset.corr()\n",
        "top_corr_feature=cormat.index\n",
        "plt.figure(figsize=(20,20))\n",
        "g=sns.heatmap(final_dataset[top_corr_feature].corr(),annot=True,cmap='RdYlGn')"
      ],
      "execution_count": null,
      "outputs": [
        {
          "output_type": "display_data",
          "data": {
            "image/png": "[encoded data removed]",
            "text/plain": [
              "<Figure size 1440x1440 with 2 Axes>"
            ]
          },
          "metadata": {
            "tags": [],
            "needs_background": "light"
          }
        }
      ]
    },
    {
      "cell_type": "code",
      "metadata": {
        "id": "lnfpc0Bs-ZKF"
      },
      "source": [
        "### independent and dependent features\n",
        "x=final_dataset.iloc[:,1:]\n",
        "y=final_dataset.iloc[:,0]"
      ],
      "execution_count": null,
      "outputs": []
    },
    {
      "cell_type": "code",
      "metadata": {
        "colab": {
          "base_uri": "https://localhost:8080/",
          "height": 197
        },
        "id": "szOBxpEy-ZNN",
        "outputId": "6cc3d755-043d-4bc9-9935-4bf718fb9fa0"
      },
      "source": [
        "x.head()"
      ],
      "execution_count": null,
      "outputs": [
        {
          "output_type": "execute_result",
          "data": {
            "text/html": [
              "<div>\n",
              "<style scoped>\n",
              "    .dataframe tbody tr th:only-of-type {\n",
              "        vertical-align: middle;\n",
              "    }\n",
              "\n",
              "    .dataframe tbody tr th {\n",
              "        vertical-align: top;\n",
              "    }\n",
              "\n",
              "    .dataframe thead th {\n",
              "        text-align: right;\n",
              "    }\n",
              "</style>\n",
              "<table border=\"1\" class=\"dataframe\">\n",
              "  <thead>\n",
              "    <tr style=\"text-align: right;\">\n",
              "      <th></th>\n",
              "      <th>Present_Price</th>\n",
              "      <th>Kms_Driven</th>\n",
              "      <th>Owner</th>\n",
              "      <th>No.of Years</th>\n",
              "      <th>Fuel_Type_Diesel</th>\n",
              "      <th>Fuel_Type_Petrol</th>\n",
              "      <th>Seller_Type_Individual</th>\n",
              "      <th>Transmission_Manual</th>\n",
              "    </tr>\n",
              "  </thead>\n",
              "  <tbody>\n",
              "    <tr>\n",
              "      <th>0</th>\n",
              "      <td>5.59</td>\n",
              "      <td>27000</td>\n",
              "      <td>0</td>\n",
              "      <td>6</td>\n",
              "      <td>0</td>\n",
              "      <td>1</td>\n",
              "      <td>0</td>\n",
              "      <td>1</td>\n",
              "    </tr>\n",
              "    <tr>\n",
              "      <th>1</th>\n",
              "      <td>9.54</td>\n",
              "      <td>43000</td>\n",
              "      <td>0</td>\n",
              "      <td>7</td>\n",
              "      <td>1</td>\n",
              "      <td>0</td>\n",
              "      <td>0</td>\n",
              "      <td>1</td>\n",
              "    </tr>\n",
              "    <tr>\n",
              "      <th>2</th>\n",
              "      <td>9.85</td>\n",
              "      <td>6900</td>\n",
              "      <td>0</td>\n",
              "      <td>3</td>\n",
              "      <td>0</td>\n",
              "      <td>1</td>\n",
              "      <td>0</td>\n",
              "      <td>1</td>\n",
              "    </tr>\n",
              "    <tr>\n",
              "      <th>3</th>\n",
              "      <td>4.15</td>\n",
              "      <td>5200</td>\n",
              "      <td>0</td>\n",
              "      <td>9</td>\n",
              "      <td>0</td>\n",
              "      <td>1</td>\n",
              "      <td>0</td>\n",
              "      <td>1</td>\n",
              "    </tr>\n",
              "    <tr>\n",
              "      <th>4</th>\n",
              "      <td>6.87</td>\n",
              "      <td>42450</td>\n",
              "      <td>0</td>\n",
              "      <td>6</td>\n",
              "      <td>1</td>\n",
              "      <td>0</td>\n",
              "      <td>0</td>\n",
              "      <td>1</td>\n",
              "    </tr>\n",
              "  </tbody>\n",
              "</table>\n",
              "</div>"
            ],
            "text/plain": [
              "   Present_Price  Kms_Driven  ...  Seller_Type_Individual  Transmission_Manual\n",
              "0           5.59       27000  ...                       0                    1\n",
              "1           9.54       43000  ...                       0                    1\n",
              "2           9.85        6900  ...                       0                    1\n",
              "3           4.15        5200  ...                       0                    1\n",
              "4           6.87       42450  ...                       0                    1\n",
              "\n",
              "[5 rows x 8 columns]"
            ]
          },
          "metadata": {
            "tags": []
          },
          "execution_count": 25
        }
      ]
    },
    {
      "cell_type": "code",
      "metadata": {
        "colab": {
          "base_uri": "https://localhost:8080/"
        },
        "id": "kwaEzh1M-ZQY",
        "outputId": "0bdf501b-3700-429a-8778-ec5e5f427be7"
      },
      "source": [
        "y.head()"
      ],
      "execution_count": null,
      "outputs": [
        {
          "output_type": "execute_result",
          "data": {
            "text/plain": [
              "0    3.35\n",
              "1    4.75\n",
              "2    7.25\n",
              "3    2.85\n",
              "4    4.60\n",
              "Name: Selling_Price, dtype: float64"
            ]
          },
          "metadata": {
            "tags": []
          },
          "execution_count": 26
        }
      ]
    },
    {
      "cell_type": "code",
      "metadata": {
        "colab": {
          "base_uri": "https://localhost:8080/"
        },
        "id": "g2rp-zpd-ZTq",
        "outputId": "89b91489-6ad2-4a4b-c716-9c5194d8f4b5"
      },
      "source": [
        "### Feature Importance\n",
        "from sklearn.ensemble import ExtraTreesRegressor\n",
        "model=ExtraTreesRegressor()\n",
        "model.fit(x,y)"
      ],
      "execution_count": null,
      "outputs": [
        {
          "output_type": "execute_result",
          "data": {
            "text/plain": [
              "ExtraTreesRegressor(bootstrap=False, ccp_alpha=0.0, criterion='mse',\n",
              "                    max_depth=None, max_features='auto', max_leaf_nodes=None,\n",
              "                    max_samples=None, min_impurity_decrease=0.0,\n",
              "                    min_impurity_split=None, min_samples_leaf=1,\n",
              "                    min_samples_split=2, min_weight_fraction_leaf=0.0,\n",
              "                    n_estimators=100, n_jobs=None, oob_score=False,\n",
              "                    random_state=None, verbose=0, warm_start=False)"
            ]
          },
          "metadata": {
            "tags": []
          },
          "execution_count": 27
        }
      ]
    },
    {
      "cell_type": "code",
      "metadata": {
        "colab": {
          "base_uri": "https://localhost:8080/"
        },
        "id": "1VnqcdWl-ZWj",
        "outputId": "01a7efd9-d99e-4405-9269-1d0a4194deb8"
      },
      "source": [
        "print(model.feature_importances_)"
      ],
      "execution_count": null,
      "outputs": [
        {
          "output_type": "stream",
          "text": [
            "[4.19225634e-01 3.80190096e-02 4.09125641e-04 7.65426288e-02\n",
            " 2.09810090e-01 1.25984227e-02 1.16219947e-01 1.27175142e-01]\n"
          ],
          "name": "stdout"
        }
      ]
    },
    {
      "cell_type": "code",
      "metadata": {
        "colab": {
          "base_uri": "https://localhost:8080/",
          "height": 265
        },
        "id": "z378bPyW-ZaA",
        "outputId": "7955e1e5-1fa9-4efb-be38-1dc04b202e5d"
      },
      "source": [
        "### plot graph of Feature Importance for better visualization\n",
        "feat_importances=pd.Series(model.feature_importances_,index=x.columns)\n",
        "feat_importances.nlargest(5).plot(kind='barh')\n",
        "plt.show()"
      ],
      "execution_count": null,
      "outputs": [
        {
          "output_type": "display_data",
          "data": {
            "image/png": "[encoded data removed]",
            "text/plain": [
              "<Figure size 432x288 with 1 Axes>"
            ]
          },
          "metadata": {
            "tags": [],
            "needs_background": "light"
          }
        }
      ]
    },
    {
      "cell_type": "code",
      "metadata": {
        "id": "_NF-9cht-Zdy"
      },
      "source": [
        "from sklearn.model_selection import train_test_split\n",
        "x_train, x_test,y_train,y_test=train_test_split(x,y,test_size=0.2)"
      ],
      "execution_count": null,
      "outputs": []
    },
    {
      "cell_type": "code",
      "metadata": {
        "colab": {
          "base_uri": "https://localhost:8080/"
        },
        "id": "QnoMkBzq-ZhD",
        "outputId": "3cf1b90c-f5c0-4ded-dbe3-c1a2198e4576"
      },
      "source": [
        "x_train.shape"
      ],
      "execution_count": null,
      "outputs": [
        {
          "output_type": "execute_result",
          "data": {
            "text/plain": [
              "(240, 8)"
            ]
          },
          "metadata": {
            "tags": []
          },
          "execution_count": 35
        }
      ]
    },
    {
      "cell_type": "code",
      "metadata": {
        "id": "nvnq5zbpA1Bp"
      },
      "source": [
        "from sklearn.ensemble import RandomForestRegressor\n",
        "rf_random=RandomForestRegressor()"
      ],
      "execution_count": null,
      "outputs": []
    },
    {
      "cell_type": "code",
      "metadata": {
        "colab": {
          "base_uri": "https://localhost:8080/"
        },
        "id": "1_TQ07CBBT7G",
        "outputId": "6d7e8882-00da-4560-dd6e-37c8adbff5bf"
      },
      "source": [
        "### Hyperparameters\n",
        "import numpy as np\n",
        "n_estimators=[int(x) for x in np.linspace(start=100, stop=1200, num=12)]\n",
        "print(n_estimators)"
      ],
      "execution_count": null,
      "outputs": [
        {
          "output_type": "stream",
          "text": [
            "[100, 200, 300, 400, 500, 600, 700, 800, 900, 1000, 1100, 1200]\n"
          ],
          "name": "stdout"
        }
      ]
    },
    {
      "cell_type": "code",
      "metadata": {
        "id": "biuEZYRrCbwJ"
      },
      "source": [
        "#Randomized search CV\n",
        "\n",
        "# Number of Trees in Decision Forest\n",
        "n_estimators=[int(x) for x in np.linspace(start=100, stop=1200, num=12)]\n",
        "# Number of Features to Consider at every split\n",
        "max_features=['auto', 'sqrt']\n",
        "# Maximum number of levels in tree\n",
        "max_depth=[int(x) for x in np.linspace(5,30,num=30)]\n",
        "# max_depth.append(None)\n",
        "# Miniimum number of samples required to split a node\n",
        "min_samples_split=[2,5,10,15,100]\n",
        "# Minimum number of samples at each leaf node\n",
        "min_samples_leaf=[1,2,5,10]"
      ],
      "execution_count": null,
      "outputs": []
    },
    {
      "cell_type": "code",
      "metadata": {
        "id": "xS5TQrl_EGGt"
      },
      "source": [
        "from sklearn.model_selection import RandomizedSearchCV"
      ],
      "execution_count": null,
      "outputs": []
    },
    {
      "cell_type": "code",
      "metadata": {
        "colab": {
          "base_uri": "https://localhost:8080/"
        },
        "id": "kGNCB_v6EejK",
        "outputId": "4458e6fa-8311-4608-b917-24485db8331a"
      },
      "source": [
        "# Create the Random Grid\n",
        "random_grid={'n_estimators':n_estimators,\n",
        "             'max_features':max_features,\n",
        "             'max_depth':max_depth,\n",
        "             'min_samples_split':min_samples_split,\n",
        "             'min_samples_leaf':min_samples_leaf}\n",
        "print(random_grid)"
      ],
      "execution_count": null,
      "outputs": [
        {
          "output_type": "stream",
          "text": [
            "{'n_estimators': [100, 200, 300, 400, 500, 600, 700, 800, 900, 1000, 1100, 1200], 'max_features': ['auto', 'sqrt'], 'max_depth': [5, 5, 6, 7, 8, 9, 10, 11, 11, 12, 13, 14, 15, 16, 17, 17, 18, 19, 20, 21, 22, 23, 23, 24, 25, 26, 27, 28, 29, 30], 'min_samples_split': [2, 5, 10, 15, 100], 'min_samples_leaf': [1, 2, 5, 10]}\n"
          ],
          "name": "stdout"
        }
      ]
    },
    {
      "cell_type": "code",
      "metadata": {
        "id": "sygwnt9SFR1b"
      },
      "source": [
        "# Use random grid to search for best Hyperparameter\n",
        "# First create the base model to tune\n",
        "rf=RandomForestRegressor()"
      ],
      "execution_count": null,
      "outputs": []
    },
    {
      "cell_type": "code",
      "metadata": {
        "id": "gfx2Q8RWFkRj"
      },
      "source": [
        "rf_random=RandomizedSearchCV(estimator=rf, param_distributions=random_grid, \n",
        "                             scoring= 'neg_mean_squared_error', n_iter=10, cv=5, verbose=2, \n",
        "                             random_state=42, n_jobs=1)"
      ],
      "execution_count": null,
      "outputs": []
    },
    {
      "cell_type": "code",
      "metadata": {
        "colab": {
          "base_uri": "https://localhost:8080/"
        },
        "id": "zHTq2hNbG_oC",
        "outputId": "582b4bf9-f8c3-4a19-e8c5-a58ba3b1b80a"
      },
      "source": [
        "rf_random.fit(x_train,y_train)"
      ],
      "execution_count": null,
      "outputs": [
        {
          "output_type": "stream",
          "text": [
            "Fitting 5 folds for each of 10 candidates, totalling 50 fits\n",
            "[CV] n_estimators=1100, min_samples_split=2, min_samples_leaf=2, max_features=auto, max_depth=17 \n"
          ],
          "name": "stdout"
        },
        {
          "output_type": "stream",
          "text": [
            "[Parallel(n_jobs=1)]: Using backend SequentialBackend with 1 concurrent workers.\n"
          ],
          "name": "stderr"
        },
        {
          "output_type": "stream",
          "text": [
            "[CV]  n_estimators=1100, min_samples_split=2, min_samples_leaf=2, max_features=auto, max_depth=17, total=   1.6s\n",
            "[CV] n_estimators=1100, min_samples_split=2, min_samples_leaf=2, max_features=auto, max_depth=17 \n"
          ],
          "name": "stdout"
        },
        {
          "output_type": "stream",
          "text": [
            "[Parallel(n_jobs=1)]: Done   1 out of   1 | elapsed:    1.6s remaining:    0.0s\n"
          ],
          "name": "stderr"
        },
        {
          "output_type": "stream",
          "text": [
            "[CV]  n_estimators=1100, min_samples_split=2, min_samples_leaf=2, max_features=auto, max_depth=17, total=   1.5s\n",
            "[CV] n_estimators=1100, min_samples_split=2, min_samples_leaf=2, max_features=auto, max_depth=17 \n",
            "[CV]  n_estimators=1100, min_samples_split=2, min_samples_leaf=2, max_features=auto, max_depth=17, total=   1.5s\n",
            "[CV] n_estimators=1100, min_samples_split=2, min_samples_leaf=2, max_features=auto, max_depth=17 \n",
            "[CV]  n_estimators=1100, min_samples_split=2, min_samples_leaf=2, max_features=auto, max_depth=17, total=   1.5s\n",
            "[CV] n_estimators=1100, min_samples_split=2, min_samples_leaf=2, max_features=auto, max_depth=17 \n",
            "[CV]  n_estimators=1100, min_samples_split=2, min_samples_leaf=2, max_features=auto, max_depth=17, total=   1.5s\n",
            "[CV] n_estimators=900, min_samples_split=5, min_samples_leaf=5, max_features=sqrt, max_depth=5 \n",
            "[CV]  n_estimators=900, min_samples_split=5, min_samples_leaf=5, max_features=sqrt, max_depth=5, total=   1.1s\n",
            "[CV] n_estimators=900, min_samples_split=5, min_samples_leaf=5, max_features=sqrt, max_depth=5 \n",
            "[CV]  n_estimators=900, min_samples_split=5, min_samples_leaf=5, max_features=sqrt, max_depth=5, total=   1.0s\n",
            "[CV] n_estimators=900, min_samples_split=5, min_samples_leaf=5, max_features=sqrt, max_depth=5 \n",
            "[CV]  n_estimators=900, min_samples_split=5, min_samples_leaf=5, max_features=sqrt, max_depth=5, total=   1.2s\n",
            "[CV] n_estimators=900, min_samples_split=5, min_samples_leaf=5, max_features=sqrt, max_depth=5 \n",
            "[CV]  n_estimators=900, min_samples_split=5, min_samples_leaf=5, max_features=sqrt, max_depth=5, total=   1.1s\n",
            "[CV] n_estimators=900, min_samples_split=5, min_samples_leaf=5, max_features=sqrt, max_depth=5 \n",
            "[CV]  n_estimators=900, min_samples_split=5, min_samples_leaf=5, max_features=sqrt, max_depth=5, total=   1.1s\n",
            "[CV] n_estimators=300, min_samples_split=100, min_samples_leaf=2, max_features=auto, max_depth=14 \n",
            "[CV]  n_estimators=300, min_samples_split=100, min_samples_leaf=2, max_features=auto, max_depth=14, total=   0.3s\n",
            "[CV] n_estimators=300, min_samples_split=100, min_samples_leaf=2, max_features=auto, max_depth=14 \n",
            "[CV]  n_estimators=300, min_samples_split=100, min_samples_leaf=2, max_features=auto, max_depth=14, total=   0.4s\n",
            "[CV] n_estimators=300, min_samples_split=100, min_samples_leaf=2, max_features=auto, max_depth=14 \n",
            "[CV]  n_estimators=300, min_samples_split=100, min_samples_leaf=2, max_features=auto, max_depth=14, total=   0.4s\n",
            "[CV] n_estimators=300, min_samples_split=100, min_samples_leaf=2, max_features=auto, max_depth=14 \n",
            "[CV]  n_estimators=300, min_samples_split=100, min_samples_leaf=2, max_features=auto, max_depth=14, total=   0.4s\n",
            "[CV] n_estimators=300, min_samples_split=100, min_samples_leaf=2, max_features=auto, max_depth=14 \n",
            "[CV]  n_estimators=300, min_samples_split=100, min_samples_leaf=2, max_features=auto, max_depth=14, total=   0.4s\n",
            "[CV] n_estimators=300, min_samples_split=15, min_samples_leaf=10, max_features=sqrt, max_depth=28 \n",
            "[CV]  n_estimators=300, min_samples_split=15, min_samples_leaf=10, max_features=sqrt, max_depth=28, total=   0.4s\n",
            "[CV] n_estimators=300, min_samples_split=15, min_samples_leaf=10, max_features=sqrt, max_depth=28 \n",
            "[CV]  n_estimators=300, min_samples_split=15, min_samples_leaf=10, max_features=sqrt, max_depth=28, total=   0.4s\n",
            "[CV] n_estimators=300, min_samples_split=15, min_samples_leaf=10, max_features=sqrt, max_depth=28 \n",
            "[CV]  n_estimators=300, min_samples_split=15, min_samples_leaf=10, max_features=sqrt, max_depth=28, total=   0.4s\n",
            "[CV] n_estimators=300, min_samples_split=15, min_samples_leaf=10, max_features=sqrt, max_depth=28 \n",
            "[CV]  n_estimators=300, min_samples_split=15, min_samples_leaf=10, max_features=sqrt, max_depth=28, total=   0.4s\n",
            "[CV] n_estimators=300, min_samples_split=15, min_samples_leaf=10, max_features=sqrt, max_depth=28 \n",
            "[CV]  n_estimators=300, min_samples_split=15, min_samples_leaf=10, max_features=sqrt, max_depth=28, total=   0.4s\n",
            "[CV] n_estimators=800, min_samples_split=10, min_samples_leaf=5, max_features=sqrt, max_depth=13 \n",
            "[CV]  n_estimators=800, min_samples_split=10, min_samples_leaf=5, max_features=sqrt, max_depth=13, total=   1.0s\n",
            "[CV] n_estimators=800, min_samples_split=10, min_samples_leaf=5, max_features=sqrt, max_depth=13 \n",
            "[CV]  n_estimators=800, min_samples_split=10, min_samples_leaf=5, max_features=sqrt, max_depth=13, total=   1.0s\n",
            "[CV] n_estimators=800, min_samples_split=10, min_samples_leaf=5, max_features=sqrt, max_depth=13 \n",
            "[CV]  n_estimators=800, min_samples_split=10, min_samples_leaf=5, max_features=sqrt, max_depth=13, total=   1.0s\n",
            "[CV] n_estimators=800, min_samples_split=10, min_samples_leaf=5, max_features=sqrt, max_depth=13 \n",
            "[CV]  n_estimators=800, min_samples_split=10, min_samples_leaf=5, max_features=sqrt, max_depth=13, total=   0.9s\n",
            "[CV] n_estimators=800, min_samples_split=10, min_samples_leaf=5, max_features=sqrt, max_depth=13 \n",
            "[CV]  n_estimators=800, min_samples_split=10, min_samples_leaf=5, max_features=sqrt, max_depth=13, total=   0.9s\n",
            "[CV] n_estimators=100, min_samples_split=10, min_samples_leaf=10, max_features=sqrt, max_depth=25 \n",
            "[CV]  n_estimators=100, min_samples_split=10, min_samples_leaf=10, max_features=sqrt, max_depth=25, total=   0.1s\n",
            "[CV] n_estimators=100, min_samples_split=10, min_samples_leaf=10, max_features=sqrt, max_depth=25 \n",
            "[CV]  n_estimators=100, min_samples_split=10, min_samples_leaf=10, max_features=sqrt, max_depth=25, total=   0.1s\n",
            "[CV] n_estimators=100, min_samples_split=10, min_samples_leaf=10, max_features=sqrt, max_depth=25 \n",
            "[CV]  n_estimators=100, min_samples_split=10, min_samples_leaf=10, max_features=sqrt, max_depth=25, total=   0.1s\n",
            "[CV] n_estimators=100, min_samples_split=10, min_samples_leaf=10, max_features=sqrt, max_depth=25 \n",
            "[CV]  n_estimators=100, min_samples_split=10, min_samples_leaf=10, max_features=sqrt, max_depth=25, total=   0.1s\n",
            "[CV] n_estimators=100, min_samples_split=10, min_samples_leaf=10, max_features=sqrt, max_depth=25 \n",
            "[CV]  n_estimators=100, min_samples_split=10, min_samples_leaf=10, max_features=sqrt, max_depth=25, total=   0.1s\n",
            "[CV] n_estimators=500, min_samples_split=2, min_samples_leaf=1, max_features=sqrt, max_depth=24 \n",
            "[CV]  n_estimators=500, min_samples_split=2, min_samples_leaf=1, max_features=sqrt, max_depth=24, total=   0.7s\n",
            "[CV] n_estimators=500, min_samples_split=2, min_samples_leaf=1, max_features=sqrt, max_depth=24 \n",
            "[CV]  n_estimators=500, min_samples_split=2, min_samples_leaf=1, max_features=sqrt, max_depth=24, total=   0.7s\n",
            "[CV] n_estimators=500, min_samples_split=2, min_samples_leaf=1, max_features=sqrt, max_depth=24 \n",
            "[CV]  n_estimators=500, min_samples_split=2, min_samples_leaf=1, max_features=sqrt, max_depth=24, total=   0.6s\n",
            "[CV] n_estimators=500, min_samples_split=2, min_samples_leaf=1, max_features=sqrt, max_depth=24 \n",
            "[CV]  n_estimators=500, min_samples_split=2, min_samples_leaf=1, max_features=sqrt, max_depth=24, total=   0.6s\n",
            "[CV] n_estimators=500, min_samples_split=2, min_samples_leaf=1, max_features=sqrt, max_depth=24 \n",
            "[CV]  n_estimators=500, min_samples_split=2, min_samples_leaf=1, max_features=sqrt, max_depth=24, total=   0.7s\n",
            "[CV] n_estimators=1100, min_samples_split=10, min_samples_leaf=10, max_features=sqrt, max_depth=14 \n",
            "[CV]  n_estimators=1100, min_samples_split=10, min_samples_leaf=10, max_features=sqrt, max_depth=14, total=   1.3s\n",
            "[CV] n_estimators=1100, min_samples_split=10, min_samples_leaf=10, max_features=sqrt, max_depth=14 \n",
            "[CV]  n_estimators=1100, min_samples_split=10, min_samples_leaf=10, max_features=sqrt, max_depth=14, total=   1.3s\n",
            "[CV] n_estimators=1100, min_samples_split=10, min_samples_leaf=10, max_features=sqrt, max_depth=14 \n",
            "[CV]  n_estimators=1100, min_samples_split=10, min_samples_leaf=10, max_features=sqrt, max_depth=14, total=   1.3s\n",
            "[CV] n_estimators=1100, min_samples_split=10, min_samples_leaf=10, max_features=sqrt, max_depth=14 \n",
            "[CV]  n_estimators=1100, min_samples_split=10, min_samples_leaf=10, max_features=sqrt, max_depth=14, total=   1.2s\n",
            "[CV] n_estimators=1100, min_samples_split=10, min_samples_leaf=10, max_features=sqrt, max_depth=14 \n",
            "[CV]  n_estimators=1100, min_samples_split=10, min_samples_leaf=10, max_features=sqrt, max_depth=14, total=   1.3s\n",
            "[CV] n_estimators=200, min_samples_split=10, min_samples_leaf=1, max_features=auto, max_depth=16 \n",
            "[CV]  n_estimators=200, min_samples_split=10, min_samples_leaf=1, max_features=auto, max_depth=16, total=   0.3s\n",
            "[CV] n_estimators=200, min_samples_split=10, min_samples_leaf=1, max_features=auto, max_depth=16 \n",
            "[CV]  n_estimators=200, min_samples_split=10, min_samples_leaf=1, max_features=auto, max_depth=16, total=   0.3s\n",
            "[CV] n_estimators=200, min_samples_split=10, min_samples_leaf=1, max_features=auto, max_depth=16 \n",
            "[CV]  n_estimators=200, min_samples_split=10, min_samples_leaf=1, max_features=auto, max_depth=16, total=   0.3s\n",
            "[CV] n_estimators=200, min_samples_split=10, min_samples_leaf=1, max_features=auto, max_depth=16 \n",
            "[CV]  n_estimators=200, min_samples_split=10, min_samples_leaf=1, max_features=auto, max_depth=16, total=   0.3s\n",
            "[CV] n_estimators=200, min_samples_split=10, min_samples_leaf=1, max_features=auto, max_depth=16 \n",
            "[CV]  n_estimators=200, min_samples_split=10, min_samples_leaf=1, max_features=auto, max_depth=16, total=   0.3s\n",
            "[CV] n_estimators=1100, min_samples_split=15, min_samples_leaf=10, max_features=sqrt, max_depth=5 \n",
            "[CV]  n_estimators=1100, min_samples_split=15, min_samples_leaf=10, max_features=sqrt, max_depth=5, total=   1.4s\n",
            "[CV] n_estimators=1100, min_samples_split=15, min_samples_leaf=10, max_features=sqrt, max_depth=5 \n",
            "[CV]  n_estimators=1100, min_samples_split=15, min_samples_leaf=10, max_features=sqrt, max_depth=5, total=   1.4s\n",
            "[CV] n_estimators=1100, min_samples_split=15, min_samples_leaf=10, max_features=sqrt, max_depth=5 \n",
            "[CV]  n_estimators=1100, min_samples_split=15, min_samples_leaf=10, max_features=sqrt, max_depth=5, total=   1.4s\n",
            "[CV] n_estimators=1100, min_samples_split=15, min_samples_leaf=10, max_features=sqrt, max_depth=5 \n",
            "[CV]  n_estimators=1100, min_samples_split=15, min_samples_leaf=10, max_features=sqrt, max_depth=5, total=   1.4s\n",
            "[CV] n_estimators=1100, min_samples_split=15, min_samples_leaf=10, max_features=sqrt, max_depth=5 \n",
            "[CV]  n_estimators=1100, min_samples_split=15, min_samples_leaf=10, max_features=sqrt, max_depth=5, total=   1.3s\n"
          ],
          "name": "stdout"
        },
        {
          "output_type": "stream",
          "text": [
            "[Parallel(n_jobs=1)]: Done  50 out of  50 | elapsed:   40.0s finished\n"
          ],
          "name": "stderr"
        },
        {
          "output_type": "execute_result",
          "data": {
            "text/plain": [
              "RandomizedSearchCV(cv=5, error_score=nan,\n",
              "                   estimator=RandomForestRegressor(bootstrap=True,\n",
              "                                                   ccp_alpha=0.0,\n",
              "                                                   criterion='mse',\n",
              "                                                   max_depth=None,\n",
              "                                                   max_features='auto',\n",
              "                                                   max_leaf_nodes=None,\n",
              "                                                   max_samples=None,\n",
              "                                                   min_impurity_decrease=0.0,\n",
              "                                                   min_impurity_split=None,\n",
              "                                                   min_samples_leaf=1,\n",
              "                                                   min_samples_split=2,\n",
              "                                                   min_weight_fraction_leaf=0.0,\n",
              "                                                   n_estimators=100,\n",
              "                                                   n_jobs=None, oob_score=Fals...\n",
              "                                                      11, 12, 13, 14, 15, 16,\n",
              "                                                      17, 17, 18, 19, 20, 21,\n",
              "                                                      22, 23, 23, 24, 25, 26,\n",
              "                                                      27, 28, 29, 30],\n",
              "                                        'max_features': ['auto', 'sqrt'],\n",
              "                                        'min_samples_leaf': [1, 2, 5, 10],\n",
              "                                        'min_samples_split': [2, 5, 10, 15,\n",
              "                                                              100],\n",
              "                                        'n_estimators': [100, 200, 300, 400,\n",
              "                                                         500, 600, 700, 800,\n",
              "                                                         900, 1000, 1100,\n",
              "                                                         1200]},\n",
              "                   pre_dispatch='2*n_jobs', random_state=42, refit=True,\n",
              "                   return_train_score=False, scoring='neg_mean_squared_error',\n",
              "                   verbose=2)"
            ]
          },
          "metadata": {
            "tags": []
          },
          "execution_count": 44
        }
      ]
    },
    {
      "cell_type": "code",
      "metadata": {
        "id": "jDWA_42ZH0IN"
      },
      "source": [
        "predictions=rf_random.predict(x_test)"
      ],
      "execution_count": null,
      "outputs": []
    },
    {
      "cell_type": "code",
      "metadata": {
        "colab": {
          "base_uri": "https://localhost:8080/"
        },
        "id": "tNSRPpm2ICoN",
        "outputId": "326cc1d6-c0e8-4ba8-e2bd-08fefe077a74"
      },
      "source": [
        "predictions"
      ],
      "execution_count": null,
      "outputs": [
        {
          "output_type": "execute_result",
          "data": {
            "text/plain": [
              "array([ 4.98559413,  5.22584805, 11.58588449,  7.70145022,  7.97518075,\n",
              "        0.58662114,  0.5493942 ,  9.200269  ,  4.20248407,  8.59705255,\n",
              "        7.70899383,  3.46624684,  4.98512606,  2.60679053,  0.27392641,\n",
              "        3.9047855 ,  3.25851849,  6.04077689,  0.21130348,  0.57058178,\n",
              "        5.10775173,  5.7606689 ,  7.39381064,  9.8237183 ,  0.63815211,\n",
              "        0.19218731,  3.25078422, 23.57823148,  2.47329847,  0.24292541,\n",
              "        5.00534018, 23.94262295,  0.41771394,  3.06915031,  5.39742946,\n",
              "        5.15057845,  2.97320269,  1.20813674,  1.0480175 ,  0.76844433,\n",
              "        3.0880511 ,  4.94438598,  5.29482175,  0.33293923,  4.60528135,\n",
              "        4.95135696,  4.84291909,  6.10809081,  1.23260903,  0.38236942,\n",
              "        0.33091579,  4.04140855,  3.08882383,  6.16392305,  0.52962237,\n",
              "        1.08723762,  4.43316634,  8.69449149,  9.1905794 ,  1.16636611,\n",
              "        0.41588783])"
            ]
          },
          "metadata": {
            "tags": []
          },
          "execution_count": 47
        }
      ]
    },
    {
      "cell_type": "code",
      "metadata": {
        "colab": {
          "base_uri": "https://localhost:8080/",
          "height": 350
        },
        "id": "_IXSAKDRIJeH",
        "outputId": "4868576a-94a9-4f41-aa6c-7f2aa11ffd37"
      },
      "source": [
        "sns.distplot(y_test-predictions)"
      ],
      "execution_count": null,
      "outputs": [
        {
          "output_type": "stream",
          "text": [
            "/usr/local/lib/python3.6/dist-packages/seaborn/distributions.py:2551: FutureWarning: `distplot` is a deprecated function and will be removed in a future version. Please adapt your code to use either `displot` (a figure-level function with similar flexibility) or `histplot` (an axes-level function for histograms).\n",
            "  warnings.warn(msg, FutureWarning)\n"
          ],
          "name": "stderr"
        },
        {
          "output_type": "execute_result",
          "data": {
            "text/plain": [
              "<matplotlib.axes._subplots.AxesSubplot at 0x7f2d74ffc240>"
            ]
          },
          "metadata": {
            "tags": []
          },
          "execution_count": 49
        },
        {
          "output_type": "display_data",
          "data": {
            "image/png": "[encoded data removed]",
            "text/plain": [
              "<Figure size 432x288 with 1 Axes>"
            ]
          },
          "metadata": {
            "tags": [],
            "needs_background": "light"
          }
        }
      ]
    },
    {
      "cell_type": "code",
      "metadata": {
        "colab": {
          "base_uri": "https://localhost:8080/",
          "height": 285
        },
        "id": "1OdDo8IRIkK8",
        "outputId": "1e6be283-170e-44d9-d188-fdd273734e5d"
      },
      "source": [
        "plt.scatter(y_test,predictions)"
      ],
      "execution_count": null,
      "outputs": [
        {
          "output_type": "execute_result",
          "data": {
            "text/plain": [
              "<matplotlib.collections.PathCollection at 0x7f2d74edc5c0>"
            ]
          },
          "metadata": {
            "tags": []
          },
          "execution_count": 50
        },
        {
          "output_type": "display_data",
          "data": {
            "image/png": "[encoded data removed]",
            "text/plain": [
              "<Figure size 432x288 with 1 Axes>"
            ]
          },
          "metadata": {
            "tags": [],
            "needs_background": "light"
          }
        }
      ]
    },
    {
      "cell_type": "code",
      "metadata": {
        "id": "ZqA6SaBKJIdv"
      },
      "source": [
        "import pickle\n",
        "#open a file where you want to store data\n",
        "with open('random_forest_regression_model.pkl', 'wb') as fid:\n",
        "     pickle.dump(rf_random, fid)\n"
      ],
      "execution_count": 52,
      "outputs": []
    }
  ]
}